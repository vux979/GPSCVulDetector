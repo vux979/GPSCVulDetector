{
  "nbformat": 4,
  "nbformat_minor": 0,
  "metadata": {
    "colab": {
      "name": "GPSCVulDetector_RunWithColab.ipynb",
      "provenance": [],
      "collapsed_sections": [],
      "authorship_tag": "ABX9TyOf+DyJfoaby0hj7UokmXxd",
      "include_colab_link": true
    },
    "kernelspec": {
      "name": "python3",
      "display_name": "Python 3"
    },
    "language_info": {
      "name": "python"
    },
    "accelerator": "GPU"
  },
  "cells": [
    {
      "cell_type": "markdown",
      "metadata": {
        "id": "view-in-github",
        "colab_type": "text"
      },
      "source": [
        "<a href=\"https://colab.research.google.com/github/vux979/GPSCVulDetector/blob/main/GPSCVulDetector_RunWithColab.ipynb\" target=\"_parent\"><img src=\"https://colab.research.google.com/assets/colab-badge.svg\" alt=\"Open In Colab\"/></a>"
      ]
    },
    {
      "cell_type": "markdown",
      "source": [
        "先重启"
      ],
      "metadata": {
        "id": "_s_TVl-QAgsZ"
      }
    },
    {
      "cell_type": "code",
      "source": [
        "import os\n",
        "os.kill(os.getpid(), 9)"
      ],
      "metadata": {
        "id": "WjEMBVeW_Qdr"
      },
      "execution_count": null,
      "outputs": []
    },
    {
      "cell_type": "markdown",
      "source": [
        "下面修改一下tensorflow版本，2.x的版本代码会运行失败"
      ],
      "metadata": {
        "id": "-tZ47DjHAWsy"
      }
    },
    {
      "cell_type": "code",
      "source": [
        "%tensorflow_version 1.x\n",
        "import tensorflow\n",
        "print(tensorflow.__version__)"
      ],
      "metadata": {
        "colab": {
          "base_uri": "https://localhost:8080/"
        },
        "id": "cPTaJSFF_hHI",
        "outputId": "d9bda2ad-9f76-4dce-b34f-357285c23851"
      },
      "execution_count": 1,
      "outputs": [
        {
          "output_type": "stream",
          "name": "stdout",
          "text": [
            "TensorFlow 1.x selected.\n",
            "1.15.2\n"
          ]
        }
      ]
    },
    {
      "cell_type": "code",
      "source": [
        "!nvidia-smi"
      ],
      "metadata": {
        "colab": {
          "base_uri": "https://localhost:8080/"
        },
        "id": "nb6qCs5671dP",
        "outputId": "bb885dc8-305d-45ff-e582-9407f9a7a591"
      },
      "execution_count": 2,
      "outputs": [
        {
          "output_type": "stream",
          "name": "stdout",
          "text": [
            "Sun Feb 27 07:13:52 2022       \n",
            "+-----------------------------------------------------------------------------+\n",
            "| NVIDIA-SMI 460.32.03    Driver Version: 460.32.03    CUDA Version: 11.2     |\n",
            "|-------------------------------+----------------------+----------------------+\n",
            "| GPU  Name        Persistence-M| Bus-Id        Disp.A | Volatile Uncorr. ECC |\n",
            "| Fan  Temp  Perf  Pwr:Usage/Cap|         Memory-Usage | GPU-Util  Compute M. |\n",
            "|                               |                      |               MIG M. |\n",
            "|===============================+======================+======================|\n",
            "|   0  Tesla K80           Off  | 00000000:00:04.0 Off |                    0 |\n",
            "| N/A   36C    P8    26W / 149W |      0MiB / 11441MiB |      0%      Default |\n",
            "|                               |                      |                  N/A |\n",
            "+-------------------------------+----------------------+----------------------+\n",
            "                                                                               \n",
            "+-----------------------------------------------------------------------------+\n",
            "| Processes:                                                                  |\n",
            "|  GPU   GI   CI        PID   Type   Process name                  GPU Memory |\n",
            "|        ID   ID                                                   Usage      |\n",
            "|=============================================================================|\n",
            "|  No running processes found                                                 |\n",
            "+-----------------------------------------------------------------------------+\n"
          ]
        }
      ]
    },
    {
      "cell_type": "markdown",
      "source": [
        "连接谷歌网盘"
      ],
      "metadata": {
        "id": "Xcwdl2twAmbO"
      }
    },
    {
      "cell_type": "code",
      "execution_count": 3,
      "metadata": {
        "colab": {
          "base_uri": "https://localhost:8080/"
        },
        "id": "D_ACfk9G7ppw",
        "outputId": "a76ebdcd-3c5e-4f06-c970-98f838a3ff68"
      },
      "outputs": [
        {
          "output_type": "stream",
          "name": "stdout",
          "text": [
            "Drive already mounted at /content/drive; to attempt to forcibly remount, call drive.mount(\"/content/drive\", force_remount=True).\n"
          ]
        }
      ],
      "source": [
        "from google.colab import drive\n",
        "drive.mount('/content/drive')"
      ]
    },
    {
      "cell_type": "markdown",
      "source": [
        "查看网盘下面的目录"
      ],
      "metadata": {
        "id": "4ltEpus9AuyT"
      }
    },
    {
      "cell_type": "code",
      "source": [
        "import os\n",
        "os.chdir(\"/content/drive/My Drive\")\n",
        "!ls"
      ],
      "metadata": {
        "colab": {
          "base_uri": "https://localhost:8080/"
        },
        "id": "11Bal2Iy744Q",
        "outputId": "fbbb1e78-a96d-4af0-d322-9fb63068ba1b"
      },
      "execution_count": 4,
      "outputs": [
        {
          "output_type": "stream",
          "name": "stdout",
          "text": [
            "'Colab Notebooks'   d2l-zh   GPSCVulDetector\n"
          ]
        }
      ]
    },
    {
      "cell_type": "markdown",
      "source": [
        "下载github上的代码"
      ],
      "metadata": {
        "id": "AueSskXCAx5S"
      }
    },
    {
      "cell_type": "code",
      "source": [
        "!git clone https://github.com/Messi-Q/GPSCVulDetector.git"
      ],
      "metadata": {
        "colab": {
          "base_uri": "https://localhost:8080/"
        },
        "id": "FcXiTosT8CLX",
        "outputId": "4c72beeb-686c-4ca5-d58b-b96aaf656f6b"
      },
      "execution_count": 4,
      "outputs": [
        {
          "output_type": "stream",
          "name": "stdout",
          "text": [
            "Cloning into 'GPSCVulDetector'...\n",
            "remote: Enumerating objects: 1756, done.\u001b[K\n",
            "remote: Counting objects: 100% (1756/1756), done.\u001b[K\n",
            "remote: Compressing objects: 100% (1405/1405), done.\u001b[K\n",
            "remote: Total 1756 (delta 400), reused 1676 (delta 330), pack-reused 0\u001b[K\n",
            "Receiving objects: 100% (1756/1756), 9.02 MiB | 5.22 MiB/s, done.\n",
            "Resolving deltas: 100% (400/400), done.\n",
            "Checking out files: 100% (2836/2836), done.\n"
          ]
        }
      ]
    },
    {
      "cell_type": "code",
      "source": [
        "!ls"
      ],
      "metadata": {
        "colab": {
          "base_uri": "https://localhost:8080/"
        },
        "id": "ZWnjDlEE8Map",
        "outputId": "af452f5a-b51e-4aca-b43e-b7a33370f779"
      },
      "execution_count": 5,
      "outputs": [
        {
          "output_type": "stream",
          "name": "stdout",
          "text": [
            "'Colab Notebooks'   d2l-zh   GPSCVulDetector\n"
          ]
        }
      ]
    },
    {
      "cell_type": "markdown",
      "source": [
        "到代码文件下运行程序"
      ],
      "metadata": {
        "id": "3lEyKi2LA1ZV"
      }
    },
    {
      "cell_type": "code",
      "source": [
        "cd GPSCVulDetector/"
      ],
      "metadata": {
        "colab": {
          "base_uri": "https://localhost:8080/"
        },
        "id": "skrzuT8m8UMJ",
        "outputId": "f629b80f-605b-4585-bdf1-6502aa00d4ad"
      },
      "execution_count": 5,
      "outputs": [
        {
          "output_type": "stream",
          "name": "stdout",
          "text": [
            "/content/drive/My Drive/GPSCVulDetector\n"
          ]
        }
      ]
    },
    {
      "cell_type": "code",
      "source": [
        "!ls"
      ],
      "metadata": {
        "colab": {
          "base_uri": "https://localhost:8080/"
        },
        "id": "lXAeewqV8kGy",
        "outputId": "317b468c-0ffc-4092-8a66-99b907492a66"
      },
      "execution_count": 6,
      "outputs": [
        {
          "output_type": "stream",
          "name": "stdout",
          "text": [
            "CGEVulDetector.py\t models\t\t\t    PFExtractor.py\n",
            "data\t\t\t parser.py\t\t    preprocessing.py\n",
            "graph_extractor_example  pattern_extractor_example  __pycache__\n",
            "graph_feature\t\t pattern_feature\t    README.md\n"
          ]
        }
      ]
    },
    {
      "cell_type": "code",
      "source": [
        "!python CGEVulDetector.py"
      ],
      "metadata": {
        "colab": {
          "base_uri": "https://localhost:8080/"
        },
        "id": "aswOJCy6815d",
        "outputId": "2f62b8f9-50c2-43f6-c1d3-4f39cd3aecf0"
      },
      "execution_count": 7,
      "outputs": [
        {
          "output_type": "stream",
          "name": "stdout",
          "text": [
            "WARNING:tensorflow:From /tensorflow-1.15.2/python3.7/tensorflow_core/python/ops/resource_variable_ops.py:1630: calling BaseResourceVariable.__init__ (from tensorflow.python.ops.resource_variable_ops) with constraint is deprecated and will be removed in a future version.\n",
            "Instructions for updating:\n",
            "If using Keras pass *_constraint arguments to layers.\n",
            "Model: \"model\"\n",
            "__________________________________________________________________________________________________\n",
            "Layer (type)                    Output Shape         Param #     Connected to                     \n",
            "==================================================================================================\n",
            "input1 (InputLayer)             [(None, 1, 250)]     0                                            \n",
            "__________________________________________________________________________________________________\n",
            "input2 (InputLayer)             [(None, 3, 250)]     0                                            \n",
            "__________________________________________________________________________________________________\n",
            "conv1d (Conv1D)                 (None, 1, 200)       150200      input1[0][0]                     \n",
            "__________________________________________________________________________________________________\n",
            "conv1d_1 (Conv1D)               (None, 3, 200)       150200      input2[0][0]                     \n",
            "__________________________________________________________________________________________________\n",
            "max_pooling1d (MaxPooling1D)    (None, 1, 200)       0           conv1d[0][0]                     \n",
            "__________________________________________________________________________________________________\n",
            "max_pooling1d_1 (MaxPooling1D)  (None, 1, 200)       0           conv1d_1[0][0]                   \n",
            "__________________________________________________________________________________________________\n",
            "concatenate (Concatenate)       (None, 1, 400)       0           max_pooling1d[0][0]              \n",
            "                                                                 max_pooling1d_1[0][0]            \n",
            "__________________________________________________________________________________________________\n",
            "dense (Dense)                   (None, 1, 100)       40100       concatenate[0][0]                \n",
            "__________________________________________________________________________________________________\n",
            "dense_1 (Dense)                 (None, 1, 50)        5050        dense[0][0]                      \n",
            "__________________________________________________________________________________________________\n",
            "dense_2 (Dense)                 (None, 1, 10)        510         dense_1[0][0]                    \n",
            "__________________________________________________________________________________________________\n",
            "output (Dense)                  (None, 1, 1)         11          dense_2[0][0]                    \n",
            "==================================================================================================\n",
            "Total params: 346,071\n",
            "Trainable params: 346,071\n",
            "Non-trainable params: 0\n",
            "__________________________________________________________________________________________________\n",
            "WARNING:tensorflow:From /tensorflow-1.15.2/python3.7/tensorflow_core/python/ops/nn_impl.py:183: where (from tensorflow.python.ops.array_ops) is deprecated and will be removed in a future version.\n",
            "Instructions for updating:\n",
            "Use tf.where in 2.0, which has the same broadcast rule as np.where\n",
            "Train on 5352 samples\n",
            "2022-02-27 07:14:52.213194: I tensorflow/stream_executor/platform/default/dso_loader.cc:44] Successfully opened dynamic library libcuda.so.1\n",
            "2022-02-27 07:14:52.234635: I tensorflow/stream_executor/cuda/cuda_gpu_executor.cc:983] successful NUMA node read from SysFS had negative value (-1), but there must be at least one NUMA node, so returning NUMA node zero\n",
            "2022-02-27 07:14:52.235500: I tensorflow/core/common_runtime/gpu/gpu_device.cc:1639] Found device 0 with properties: \n",
            "name: Tesla K80 major: 3 minor: 7 memoryClockRate(GHz): 0.8235\n",
            "pciBusID: 0000:00:04.0\n",
            "2022-02-27 07:14:52.235910: I tensorflow/stream_executor/platform/default/dso_loader.cc:44] Successfully opened dynamic library libcudart.so.10.1\n",
            "2022-02-27 07:14:52.237714: I tensorflow/stream_executor/platform/default/dso_loader.cc:44] Successfully opened dynamic library libcublas.so.10\n",
            "2022-02-27 07:14:52.238799: I tensorflow/stream_executor/platform/default/dso_loader.cc:44] Successfully opened dynamic library libcufft.so.10\n",
            "2022-02-27 07:14:52.239137: I tensorflow/stream_executor/platform/default/dso_loader.cc:44] Successfully opened dynamic library libcurand.so.10\n",
            "2022-02-27 07:14:52.241032: I tensorflow/stream_executor/platform/default/dso_loader.cc:44] Successfully opened dynamic library libcusolver.so.10\n",
            "2022-02-27 07:14:52.242018: I tensorflow/stream_executor/platform/default/dso_loader.cc:44] Successfully opened dynamic library libcusparse.so.10\n",
            "2022-02-27 07:14:52.246288: I tensorflow/stream_executor/platform/default/dso_loader.cc:44] Successfully opened dynamic library libcudnn.so.7\n",
            "2022-02-27 07:14:52.246404: I tensorflow/stream_executor/cuda/cuda_gpu_executor.cc:983] successful NUMA node read from SysFS had negative value (-1), but there must be at least one NUMA node, so returning NUMA node zero\n",
            "2022-02-27 07:14:52.247287: I tensorflow/stream_executor/cuda/cuda_gpu_executor.cc:983] successful NUMA node read from SysFS had negative value (-1), but there must be at least one NUMA node, so returning NUMA node zero\n",
            "2022-02-27 07:14:52.247984: I tensorflow/core/common_runtime/gpu/gpu_device.cc:1767] Adding visible gpu devices: 0\n",
            "2022-02-27 07:14:52.252969: I tensorflow/core/platform/profile_utils/cpu_utils.cc:94] CPU Frequency: 2299995000 Hz\n",
            "2022-02-27 07:14:52.253179: I tensorflow/compiler/xla/service/service.cc:168] XLA service 0x55f3d08bd480 initialized for platform Host (this does not guarantee that XLA will be used). Devices:\n",
            "2022-02-27 07:14:52.253216: I tensorflow/compiler/xla/service/service.cc:176]   StreamExecutor device (0): Host, Default Version\n",
            "2022-02-27 07:14:52.355842: I tensorflow/stream_executor/cuda/cuda_gpu_executor.cc:983] successful NUMA node read from SysFS had negative value (-1), but there must be at least one NUMA node, so returning NUMA node zero\n",
            "2022-02-27 07:14:52.356759: I tensorflow/compiler/xla/service/service.cc:168] XLA service 0x55f3d08bd2c0 initialized for platform CUDA (this does not guarantee that XLA will be used). Devices:\n",
            "2022-02-27 07:14:52.356793: I tensorflow/compiler/xla/service/service.cc:176]   StreamExecutor device (0): Tesla K80, Compute Capability 3.7\n",
            "2022-02-27 07:14:52.356967: I tensorflow/stream_executor/cuda/cuda_gpu_executor.cc:983] successful NUMA node read from SysFS had negative value (-1), but there must be at least one NUMA node, so returning NUMA node zero\n",
            "2022-02-27 07:14:52.357850: I tensorflow/core/common_runtime/gpu/gpu_device.cc:1639] Found device 0 with properties: \n",
            "name: Tesla K80 major: 3 minor: 7 memoryClockRate(GHz): 0.8235\n",
            "pciBusID: 0000:00:04.0\n",
            "2022-02-27 07:14:52.357930: I tensorflow/stream_executor/platform/default/dso_loader.cc:44] Successfully opened dynamic library libcudart.so.10.1\n",
            "2022-02-27 07:14:52.357975: I tensorflow/stream_executor/platform/default/dso_loader.cc:44] Successfully opened dynamic library libcublas.so.10\n",
            "2022-02-27 07:14:52.358032: I tensorflow/stream_executor/platform/default/dso_loader.cc:44] Successfully opened dynamic library libcufft.so.10\n",
            "2022-02-27 07:14:52.358080: I tensorflow/stream_executor/platform/default/dso_loader.cc:44] Successfully opened dynamic library libcurand.so.10\n",
            "2022-02-27 07:14:52.358121: I tensorflow/stream_executor/platform/default/dso_loader.cc:44] Successfully opened dynamic library libcusolver.so.10\n",
            "2022-02-27 07:14:52.358163: I tensorflow/stream_executor/platform/default/dso_loader.cc:44] Successfully opened dynamic library libcusparse.so.10\n",
            "2022-02-27 07:14:52.358205: I tensorflow/stream_executor/platform/default/dso_loader.cc:44] Successfully opened dynamic library libcudnn.so.7\n",
            "2022-02-27 07:14:52.358304: I tensorflow/stream_executor/cuda/cuda_gpu_executor.cc:983] successful NUMA node read from SysFS had negative value (-1), but there must be at least one NUMA node, so returning NUMA node zero\n",
            "2022-02-27 07:14:52.359137: I tensorflow/stream_executor/cuda/cuda_gpu_executor.cc:983] successful NUMA node read from SysFS had negative value (-1), but there must be at least one NUMA node, so returning NUMA node zero\n",
            "2022-02-27 07:14:52.359905: I tensorflow/core/common_runtime/gpu/gpu_device.cc:1767] Adding visible gpu devices: 0\n",
            "2022-02-27 07:14:52.359974: I tensorflow/stream_executor/platform/default/dso_loader.cc:44] Successfully opened dynamic library libcudart.so.10.1\n",
            "2022-02-27 07:14:52.361293: I tensorflow/core/common_runtime/gpu/gpu_device.cc:1180] Device interconnect StreamExecutor with strength 1 edge matrix:\n",
            "2022-02-27 07:14:52.361325: I tensorflow/core/common_runtime/gpu/gpu_device.cc:1186]      0 \n",
            "2022-02-27 07:14:52.361357: I tensorflow/core/common_runtime/gpu/gpu_device.cc:1199] 0:   N \n",
            "2022-02-27 07:14:52.361512: I tensorflow/stream_executor/cuda/cuda_gpu_executor.cc:983] successful NUMA node read from SysFS had negative value (-1), but there must be at least one NUMA node, so returning NUMA node zero\n",
            "2022-02-27 07:14:52.362352: I tensorflow/stream_executor/cuda/cuda_gpu_executor.cc:983] successful NUMA node read from SysFS had negative value (-1), but there must be at least one NUMA node, so returning NUMA node zero\n",
            "2022-02-27 07:14:52.363044: W tensorflow/core/common_runtime/gpu/gpu_bfc_allocator.cc:39] Overriding allow_growth setting because the TF_FORCE_GPU_ALLOW_GROWTH environment variable is set. Original config value was 0.\n",
            "2022-02-27 07:14:52.363093: I tensorflow/core/common_runtime/gpu/gpu_device.cc:1325] Created TensorFlow device (/job:localhost/replica:0/task:0/device:GPU:0 with 10813 MB memory) -> physical GPU (device: 0, name: Tesla K80, pci bus id: 0000:00:04.0, compute capability: 3.7)\n",
            "Epoch 1/100\n",
            "2022-02-27 07:14:53.008687: I tensorflow/stream_executor/platform/default/dso_loader.cc:44] Successfully opened dynamic library libcublas.so.10\n",
            "2022-02-27 07:14:53.158594: I tensorflow/stream_executor/platform/default/dso_loader.cc:44] Successfully opened dynamic library libcudnn.so.7\n",
            "5352/5352 [==============================] - 2s 383us/sample - loss: 0.6477 - acc: 0.6522\n",
            "Epoch 2/100\n",
            "5352/5352 [==============================] - 1s 212us/sample - loss: 0.6469 - acc: 0.6544\n",
            "Epoch 3/100\n",
            "5352/5352 [==============================] - 1s 211us/sample - loss: 0.6460 - acc: 0.6541\n",
            "Epoch 4/100\n",
            "5352/5352 [==============================] - 1s 215us/sample - loss: 0.6461 - acc: 0.6541\n",
            "Epoch 5/100\n",
            "5352/5352 [==============================] - 1s 212us/sample - loss: 0.6455 - acc: 0.6543\n",
            "Epoch 6/100\n",
            "5352/5352 [==============================] - 1s 213us/sample - loss: 0.6459 - acc: 0.6540\n",
            "Epoch 7/100\n",
            "5352/5352 [==============================] - 1s 206us/sample - loss: 0.6454 - acc: 0.6537\n",
            "Epoch 8/100\n",
            "5352/5352 [==============================] - 1s 211us/sample - loss: 0.6459 - acc: 0.6541\n",
            "Epoch 9/100\n",
            "5352/5352 [==============================] - 1s 212us/sample - loss: 0.6460 - acc: 0.6537\n",
            "Epoch 10/100\n",
            "5352/5352 [==============================] - 1s 212us/sample - loss: 0.6453 - acc: 0.6540\n",
            "Epoch 11/100\n",
            "5352/5352 [==============================] - 1s 212us/sample - loss: 0.6451 - acc: 0.6541\n",
            "Epoch 12/100\n",
            "5352/5352 [==============================] - 1s 217us/sample - loss: 0.6455 - acc: 0.6540\n",
            "Epoch 13/100\n",
            "5352/5352 [==============================] - 1s 210us/sample - loss: 0.6457 - acc: 0.6541\n",
            "Epoch 14/100\n",
            "5352/5352 [==============================] - 1s 211us/sample - loss: 0.6451 - acc: 0.6540\n",
            "Epoch 15/100\n",
            "5352/5352 [==============================] - 1s 210us/sample - loss: 0.6450 - acc: 0.6540\n",
            "Epoch 16/100\n",
            "5352/5352 [==============================] - 1s 210us/sample - loss: 0.6459 - acc: 0.6540\n",
            "Epoch 17/100\n",
            "5352/5352 [==============================] - 1s 210us/sample - loss: 0.6453 - acc: 0.6540\n",
            "Epoch 18/100\n",
            "5352/5352 [==============================] - 1s 210us/sample - loss: 0.6456 - acc: 0.6539\n",
            "Epoch 19/100\n",
            "5352/5352 [==============================] - 1s 208us/sample - loss: 0.6452 - acc: 0.6539\n",
            "Epoch 20/100\n",
            "5352/5352 [==============================] - 1s 212us/sample - loss: 0.6451 - acc: 0.6539\n",
            "Epoch 21/100\n",
            "5352/5352 [==============================] - 1s 209us/sample - loss: 0.6451 - acc: 0.6541\n",
            "Epoch 22/100\n",
            "5352/5352 [==============================] - 1s 214us/sample - loss: 0.6454 - acc: 0.6540\n",
            "Epoch 23/100\n",
            "5352/5352 [==============================] - 1s 211us/sample - loss: 0.6448 - acc: 0.6539\n",
            "Epoch 24/100\n",
            "5352/5352 [==============================] - 1s 212us/sample - loss: 0.6458 - acc: 0.6540\n",
            "Epoch 25/100\n",
            "5352/5352 [==============================] - 1s 210us/sample - loss: 0.6452 - acc: 0.6539\n",
            "Epoch 26/100\n",
            "5352/5352 [==============================] - 1s 209us/sample - loss: 0.6452 - acc: 0.6537\n",
            "Epoch 27/100\n",
            "5352/5352 [==============================] - 1s 211us/sample - loss: 0.6454 - acc: 0.6540\n",
            "Epoch 28/100\n",
            "5352/5352 [==============================] - 1s 209us/sample - loss: 0.6449 - acc: 0.6537\n",
            "Epoch 29/100\n",
            "5352/5352 [==============================] - 1s 214us/sample - loss: 0.6451 - acc: 0.6539\n",
            "Epoch 30/100\n",
            "5352/5352 [==============================] - 1s 210us/sample - loss: 0.6454 - acc: 0.6541\n",
            "Epoch 31/100\n",
            "5352/5352 [==============================] - 1s 211us/sample - loss: 0.6450 - acc: 0.6537\n",
            "Epoch 32/100\n",
            "5352/5352 [==============================] - 1s 215us/sample - loss: 0.6450 - acc: 0.6540\n",
            "Epoch 33/100\n",
            "5352/5352 [==============================] - 1s 209us/sample - loss: 0.6452 - acc: 0.6540\n",
            "Epoch 34/100\n",
            "5352/5352 [==============================] - 1s 212us/sample - loss: 0.6450 - acc: 0.6539\n",
            "Epoch 35/100\n",
            "5352/5352 [==============================] - 1s 210us/sample - loss: 0.6452 - acc: 0.6539\n",
            "Epoch 36/100\n",
            "5352/5352 [==============================] - 1s 212us/sample - loss: 0.6453 - acc: 0.6540\n",
            "Epoch 37/100\n",
            "5352/5352 [==============================] - 1s 213us/sample - loss: 0.6452 - acc: 0.6541\n",
            "Epoch 38/100\n",
            "5352/5352 [==============================] - 1s 211us/sample - loss: 0.6454 - acc: 0.6540\n",
            "Epoch 39/100\n",
            "5352/5352 [==============================] - 1s 217us/sample - loss: 0.6449 - acc: 0.6540\n",
            "Epoch 40/100\n",
            "5352/5352 [==============================] - 1s 213us/sample - loss: 0.6448 - acc: 0.6541\n",
            "Epoch 41/100\n",
            "5352/5352 [==============================] - 1s 211us/sample - loss: 0.6450 - acc: 0.6537\n",
            "Epoch 42/100\n",
            "5352/5352 [==============================] - 1s 211us/sample - loss: 0.6453 - acc: 0.6544\n",
            "Epoch 43/100\n",
            "5352/5352 [==============================] - 1s 213us/sample - loss: 0.6451 - acc: 0.6536\n",
            "Epoch 44/100\n",
            "5352/5352 [==============================] - 1s 214us/sample - loss: 0.6449 - acc: 0.6540\n",
            "Epoch 45/100\n",
            "5352/5352 [==============================] - 1s 210us/sample - loss: 0.6449 - acc: 0.6541\n",
            "Epoch 46/100\n",
            "5352/5352 [==============================] - 1s 210us/sample - loss: 0.6448 - acc: 0.6539\n",
            "Epoch 47/100\n",
            "5352/5352 [==============================] - 1s 211us/sample - loss: 0.6449 - acc: 0.6539\n",
            "Epoch 48/100\n",
            "5352/5352 [==============================] - 1s 214us/sample - loss: 0.6449 - acc: 0.6543\n",
            "Epoch 49/100\n",
            "5352/5352 [==============================] - 1s 211us/sample - loss: 0.6450 - acc: 0.6536\n",
            "Epoch 50/100\n",
            "5352/5352 [==============================] - 1s 212us/sample - loss: 0.6450 - acc: 0.6540\n",
            "Epoch 51/100\n",
            "5352/5352 [==============================] - 1s 214us/sample - loss: 0.6452 - acc: 0.6537\n",
            "Epoch 52/100\n",
            "5352/5352 [==============================] - 1s 212us/sample - loss: 0.6449 - acc: 0.6539\n",
            "Epoch 53/100\n",
            "5352/5352 [==============================] - 1s 208us/sample - loss: 0.6447 - acc: 0.6541\n",
            "Epoch 54/100\n",
            "5352/5352 [==============================] - 1s 208us/sample - loss: 0.6450 - acc: 0.6540\n",
            "Epoch 55/100\n",
            "5352/5352 [==============================] - 1s 211us/sample - loss: 0.6449 - acc: 0.6541\n",
            "Epoch 56/100\n",
            "5352/5352 [==============================] - 1s 212us/sample - loss: 0.6449 - acc: 0.6544\n",
            "Epoch 57/100\n",
            "5352/5352 [==============================] - 1s 213us/sample - loss: 0.6448 - acc: 0.6541\n",
            "Epoch 58/100\n",
            "5352/5352 [==============================] - 1s 217us/sample - loss: 0.6452 - acc: 0.6541\n",
            "Epoch 59/100\n",
            "5352/5352 [==============================] - 1s 214us/sample - loss: 0.6450 - acc: 0.6539\n",
            "Epoch 60/100\n",
            "5352/5352 [==============================] - 1s 215us/sample - loss: 0.6449 - acc: 0.6537\n",
            "Epoch 61/100\n",
            "5352/5352 [==============================] - 1s 213us/sample - loss: 0.6450 - acc: 0.6536\n",
            "Epoch 62/100\n",
            "5352/5352 [==============================] - 1s 209us/sample - loss: 0.6450 - acc: 0.6541\n",
            "Epoch 63/100\n",
            "5352/5352 [==============================] - 1s 211us/sample - loss: 0.6448 - acc: 0.6539\n",
            "Epoch 64/100\n",
            "5352/5352 [==============================] - 1s 211us/sample - loss: 0.6448 - acc: 0.6541\n",
            "Epoch 65/100\n",
            "5352/5352 [==============================] - 1s 210us/sample - loss: 0.6449 - acc: 0.6543\n",
            "Epoch 66/100\n",
            "5352/5352 [==============================] - 1s 215us/sample - loss: 0.6449 - acc: 0.6541\n",
            "Epoch 67/100\n",
            "5352/5352 [==============================] - 1s 214us/sample - loss: 0.6449 - acc: 0.6539\n",
            "Epoch 68/100\n",
            "5352/5352 [==============================] - 1s 212us/sample - loss: 0.6448 - acc: 0.6540\n",
            "Epoch 69/100\n",
            "5352/5352 [==============================] - 1s 212us/sample - loss: 0.6449 - acc: 0.6540\n",
            "Epoch 70/100\n",
            "5352/5352 [==============================] - 1s 210us/sample - loss: 0.6449 - acc: 0.6539\n",
            "Epoch 71/100\n",
            "5352/5352 [==============================] - 1s 210us/sample - loss: 0.6447 - acc: 0.6537\n",
            "Epoch 72/100\n",
            "5352/5352 [==============================] - 1s 209us/sample - loss: 0.6448 - acc: 0.6540\n",
            "Epoch 73/100\n",
            "5352/5352 [==============================] - 1s 210us/sample - loss: 0.6448 - acc: 0.6540\n",
            "Epoch 74/100\n",
            "5352/5352 [==============================] - 1s 210us/sample - loss: 0.6448 - acc: 0.6540\n",
            "Epoch 75/100\n",
            "5352/5352 [==============================] - 1s 212us/sample - loss: 0.6449 - acc: 0.6540\n",
            "Epoch 76/100\n",
            "5352/5352 [==============================] - 1s 212us/sample - loss: 0.6448 - acc: 0.6539\n",
            "Epoch 77/100\n",
            "5352/5352 [==============================] - 1s 210us/sample - loss: 0.6449 - acc: 0.6541\n",
            "Epoch 78/100\n",
            "5352/5352 [==============================] - 1s 213us/sample - loss: 0.6445 - acc: 0.6537\n",
            "Epoch 79/100\n",
            "5352/5352 [==============================] - 1s 213us/sample - loss: 0.6450 - acc: 0.6543\n",
            "Epoch 80/100\n",
            "5352/5352 [==============================] - 1s 211us/sample - loss: 0.6447 - acc: 0.6543\n",
            "Epoch 81/100\n",
            "5352/5352 [==============================] - 1s 212us/sample - loss: 0.6448 - acc: 0.6539\n",
            "Epoch 82/100\n",
            "5352/5352 [==============================] - 1s 216us/sample - loss: 0.6449 - acc: 0.6539\n",
            "Epoch 83/100\n",
            "5352/5352 [==============================] - 1s 216us/sample - loss: 0.6448 - acc: 0.6539\n",
            "Epoch 84/100\n",
            "5352/5352 [==============================] - 1s 210us/sample - loss: 0.6449 - acc: 0.6541\n",
            "Epoch 85/100\n",
            "5352/5352 [==============================] - 1s 214us/sample - loss: 0.6448 - acc: 0.6539\n",
            "Epoch 86/100\n",
            "5352/5352 [==============================] - 1s 211us/sample - loss: 0.6450 - acc: 0.6540\n",
            "Epoch 87/100\n",
            "5352/5352 [==============================] - 1s 210us/sample - loss: 0.6449 - acc: 0.6537\n",
            "Epoch 88/100\n",
            "5352/5352 [==============================] - 1s 214us/sample - loss: 0.6445 - acc: 0.6537\n",
            "Epoch 89/100\n",
            "5352/5352 [==============================] - 1s 213us/sample - loss: 0.6448 - acc: 0.6537\n",
            "Epoch 90/100\n",
            "5352/5352 [==============================] - 1s 212us/sample - loss: 0.6450 - acc: 0.6537\n",
            "Epoch 91/100\n",
            "5352/5352 [==============================] - 1s 212us/sample - loss: 0.6448 - acc: 0.6541\n",
            "Epoch 92/100\n",
            "5352/5352 [==============================] - 1s 210us/sample - loss: 0.6449 - acc: 0.6536\n",
            "Epoch 93/100\n",
            "5352/5352 [==============================] - 1s 215us/sample - loss: 0.6450 - acc: 0.6539\n",
            "Epoch 94/100\n",
            "5352/5352 [==============================] - 1s 210us/sample - loss: 0.6449 - acc: 0.6539\n",
            "Epoch 95/100\n",
            "5352/5352 [==============================] - 1s 213us/sample - loss: 0.6448 - acc: 0.6540\n",
            "Epoch 96/100\n",
            "5352/5352 [==============================] - 1s 210us/sample - loss: 0.6446 - acc: 0.6539\n",
            "Epoch 97/100\n",
            "5352/5352 [==============================] - 1s 212us/sample - loss: 0.6448 - acc: 0.6540\n",
            "Epoch 98/100\n",
            "5352/5352 [==============================] - 1s 217us/sample - loss: 0.6448 - acc: 0.6541\n",
            "Epoch 99/100\n",
            "5352/5352 [==============================] - 1s 208us/sample - loss: 0.6447 - acc: 0.6541\n",
            "Epoch 100/100\n",
            "5352/5352 [==============================] - 1s 209us/sample - loss: 0.6449 - acc: 0.6537\n",
            "1332/1332 [==============================] - 0s 203us/sample - loss: 0.6382 - acc: 0.6610\n",
            "Loss:  0.6381521371749787 Accuracy:  0.6610041\n",
            "Accuracy:  0.6606606606606606\n",
            "False positive rate(FPR):  0.0\n",
            "False negative rate(FNR):  1.0\n",
            "Recall(TPR):  0.0\n",
            "/content/drive/MyDrive/GPSCVulDetector/models/CGE.py:80: RuntimeWarning: invalid value encountered in long_scalars\n",
            "  precision = tp / (tp + fp)\n",
            "Precision:  nan\n",
            "F1 score:  nan\n"
          ]
        }
      ]
    }
  ]
}